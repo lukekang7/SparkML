{
 "cells": [
  {
   "cell_type": "code",
   "execution_count": 35,
   "metadata": {},
   "outputs": [],
   "source": [
    "import pyspark\n",
    "import numpy as np\n",
    "import seaborn as sns\n",
    "import matplotlib.pyplot as plt\n",
    "from os import listdir\n",
    "from os.path import isfile, join\n",
    "import boto3\n",
    "import pandas as pd\n",
    "from sagemaker import get_execution_role\n",
    "from pyspark.sql.types import LongType, StringType, StructField, StructType, BooleanType, ArrayType, IntegerType"
   ]
  },
  {
   "cell_type": "code",
   "execution_count": 2,
   "metadata": {},
   "outputs": [],
   "source": [
    "pd.set_option('display.max_rows',100)"
   ]
  },
  {
   "cell_type": "markdown",
   "metadata": {},
   "source": [
    "# Creation of your context"
   ]
  },
  {
   "cell_type": "markdown",
   "metadata": {},
   "source": [
    "### set up a context"
   ]
  },
  {
   "cell_type": "code",
   "execution_count": 3,
   "metadata": {},
   "outputs": [
    {
     "data": {
      "text/html": [
       "\n",
       "        <div>\n",
       "            <p><b>SparkContext</b></p>\n",
       "\n",
       "            <p><a href=\"http://172.16.95.41:4041\">Spark UI</a></p>\n",
       "\n",
       "            <dl>\n",
       "              <dt>Version</dt>\n",
       "                <dd><code>v2.2.1</code></dd>\n",
       "              <dt>Master</dt>\n",
       "                <dd><code>local</code></dd>\n",
       "              <dt>AppName</dt>\n",
       "                <dd><code>odl</code></dd>\n",
       "            </dl>\n",
       "        </div>\n",
       "        "
      ],
      "text/plain": [
       "<SparkContext master=local appName=odl>"
      ]
     },
     "execution_count": 3,
     "metadata": {},
     "output_type": "execute_result"
    }
   ],
   "source": [
    "conf = pyspark.SparkConf().setAppName('odl').setMaster('local')\n",
    "sc = pyspark.SparkContext(conf=conf)\n",
    "sqlc = pyspark.sql.SQLContext(sc)\n",
    "sc"
   ]
  },
  {
   "cell_type": "markdown",
   "metadata": {},
   "source": [
    "# Preparation of data (get it into parquet)"
   ]
  },
  {
   "cell_type": "markdown",
   "metadata": {},
   "source": [
    "### Connect to S3"
   ]
  },
  {
   "cell_type": "code",
   "execution_count": 4,
   "metadata": {},
   "outputs": [],
   "source": [
    "role = get_execution_role()\n",
    "bucket='odl-spark19spds6003-001'\n",
    "data_key = 'sk5be/Iris.csv'\n",
    "data_location = 's3://{}/{}'.format(bucket, data_key) #data path\n",
    "pddf = pd.read_csv(data_location)"
   ]
  },
  {
   "cell_type": "markdown",
   "metadata": {},
   "source": [
    "### Data processing in pddf"
   ]
  },
  {
   "cell_type": "code",
   "execution_count": 5,
   "metadata": {},
   "outputs": [],
   "source": [
    "def categorical_to_numeric(x):\n",
    "    if x == \"setosa\":\n",
    "        return 0\n",
    "    if x == \"versicolor\":\n",
    "        return 1\n",
    "    if x == \"virginica\":\n",
    "        return 2"
   ]
  },
  {
   "cell_type": "code",
   "execution_count": 6,
   "metadata": {},
   "outputs": [],
   "source": [
    "pddf.Species = pddf.Species.apply(categorical_to_numeric)\n",
    "pddf = pddf.loc[pddf.Species != 2]"
   ]
  },
  {
   "cell_type": "markdown",
   "metadata": {},
   "source": [
    "### This is spark data frame imported from panda's dataframe. (This won't work for big files since this way uses memory) "
   ]
  },
  {
   "cell_type": "code",
   "execution_count": 7,
   "metadata": {},
   "outputs": [],
   "source": [
    "df = sqlc.createDataFrame(pddf)"
   ]
  },
  {
   "cell_type": "code",
   "execution_count": 8,
   "metadata": {},
   "outputs": [
    {
     "data": {
      "text/plain": [
       "DataFrame[SepalLength: double, SepalWidth: double, PetalLength: double, PetalWidth: double, Species: bigint]"
      ]
     },
     "execution_count": 8,
     "metadata": {},
     "output_type": "execute_result"
    }
   ],
   "source": [
    "df"
   ]
  },
  {
   "cell_type": "markdown",
   "metadata": {},
   "source": [
    "### Write parquet to s3"
   ]
  },
  {
   "cell_type": "code",
   "execution_count": 9,
   "metadata": {},
   "outputs": [],
   "source": [
    "#This code would have AnalysisException error since the path is already created and this code re-runs along with others. \n",
    "parquetPath = '/home/ec2-user/SageMaker/sk5be/parquet_Irisfinal'\n",
    "df.write.parquet(parquetPath)"
   ]
  },
  {
   "cell_type": "code",
   "execution_count": 10,
   "metadata": {},
   "outputs": [],
   "source": [
    "# prep list of files to transfer\n",
    "files = [f for f in listdir(parquetPath) if isfile(join(parquetPath, f))]\n",
    "\n",
    "s3 = boto3.resource('s3')\n",
    "for f in files:\n",
    "    #print('copying {} to {}'.format(parquetPath+'/'+f,\"sample_data/\"+f))\n",
    "    s3.Bucket(bucket).upload_file(parquetPath+'/'+f, \"sample_data/pqt/\"+f)\n"
   ]
  },
  {
   "cell_type": "markdown",
   "metadata": {},
   "source": [
    "### Write to spark dataframe from parquet "
   ]
  },
  {
   "cell_type": "code",
   "execution_count": 11,
   "metadata": {},
   "outputs": [],
   "source": [
    "df = sqlc.read.parquet(parquetPath)"
   ]
  },
  {
   "cell_type": "code",
   "execution_count": 12,
   "metadata": {},
   "outputs": [
    {
     "data": {
      "text/plain": [
       "DataFrame[SepalLength: double, SepalWidth: double, PetalLength: double, PetalWidth: double, Species: bigint]"
      ]
     },
     "execution_count": 12,
     "metadata": {},
     "output_type": "execute_result"
    }
   ],
   "source": [
    "df"
   ]
  },
  {
   "cell_type": "markdown",
   "metadata": {},
   "source": [
    "# MLlib based analysis"
   ]
  },
  {
   "cell_type": "markdown",
   "metadata": {},
   "source": [
    "### VECTORIZATION - spark special sauce"
   ]
  },
  {
   "cell_type": "code",
   "execution_count": 13,
   "metadata": {},
   "outputs": [],
   "source": [
    "from pyspark.ml.feature import VectorAssembler"
   ]
  },
  {
   "cell_type": "code",
   "execution_count": 14,
   "metadata": {},
   "outputs": [],
   "source": [
    "assembler = VectorAssembler(\n",
    "    inputCols=[\"SepalLength\", \"SepalWidth\", \"PetalLength\",\"PetalWidth\"],\n",
    "    outputCol=\"features\")\n",
    "output = assembler.transform(df)"
   ]
  },
  {
   "cell_type": "code",
   "execution_count": 15,
   "metadata": {},
   "outputs": [],
   "source": [
    "output = output.drop(\"SepalLength\", \"SepalWidth\", \"PetalLength\",\"PetalWidth\")"
   ]
  },
  {
   "cell_type": "code",
   "execution_count": 16,
   "metadata": {},
   "outputs": [
    {
     "name": "stdout",
     "output_type": "stream",
     "text": [
      "+-------+-----------------+\n",
      "|Species|features         |\n",
      "+-------+-----------------+\n",
      "|0      |[5.1,3.5,1.4,0.2]|\n",
      "|0      |[4.9,3.0,1.4,0.2]|\n",
      "|0      |[4.7,3.2,1.3,0.2]|\n",
      "|0      |[4.6,3.1,1.5,0.2]|\n",
      "|0      |[5.0,3.6,1.4,0.2]|\n",
      "|0      |[5.4,3.9,1.7,0.4]|\n",
      "|0      |[4.6,3.4,1.4,0.3]|\n",
      "|0      |[5.0,3.4,1.5,0.2]|\n",
      "|0      |[4.4,2.9,1.4,0.2]|\n",
      "|0      |[4.9,3.1,1.5,0.1]|\n",
      "|0      |[5.4,3.7,1.5,0.2]|\n",
      "|0      |[4.8,3.4,1.6,0.2]|\n",
      "|0      |[4.8,3.0,1.4,0.1]|\n",
      "|0      |[4.3,3.0,1.1,0.1]|\n",
      "|0      |[5.8,4.0,1.2,0.2]|\n",
      "|0      |[5.7,4.4,1.5,0.4]|\n",
      "|0      |[5.4,3.9,1.3,0.4]|\n",
      "|0      |[5.1,3.5,1.4,0.3]|\n",
      "|0      |[5.7,3.8,1.7,0.3]|\n",
      "|0      |[5.1,3.8,1.5,0.3]|\n",
      "+-------+-----------------+\n",
      "only showing top 20 rows\n",
      "\n"
     ]
    }
   ],
   "source": [
    "output.show(truncate=False)"
   ]
  },
  {
   "cell_type": "markdown",
   "metadata": {},
   "source": [
    "### Create train/test sets"
   ]
  },
  {
   "cell_type": "code",
   "execution_count": 17,
   "metadata": {},
   "outputs": [
    {
     "name": "stdout",
     "output_type": "stream",
     "text": [
      "training set N = 78, test set N = 22\n"
     ]
    }
   ],
   "source": [
    "# create train/test sets\n",
    "seed = 42\n",
    "(testDF, trainingDF) = output.randomSplit((0.20, 0.80), seed=seed)\n",
    "print ('training set N = {}, test set N = {}'.format(trainingDF.count(),testDF.count()))"
   ]
  },
  {
   "cell_type": "code",
   "execution_count": 18,
   "metadata": {},
   "outputs": [],
   "source": [
    "# rename to make ML engine happy\n",
    "trainingDF = trainingDF.withColumnRenamed(\"Species\", \"label\") #here, label and features are syntax!\n",
    "testDF = testDF.withColumnRenamed(\"Species\", \"label\")"
   ]
  },
  {
   "cell_type": "markdown",
   "metadata": {},
   "source": [
    "# 1.Logistic regression"
   ]
  },
  {
   "cell_type": "markdown",
   "metadata": {},
   "source": [
    "### 1.Train a model"
   ]
  },
  {
   "cell_type": "code",
   "execution_count": 19,
   "metadata": {},
   "outputs": [],
   "source": [
    "from pyspark.ml.classification import LogisticRegression\n",
    "\n",
    "lr = LogisticRegression(maxIter=10, regParam=0.3, elasticNetParam=0.8)\n",
    "# Fit the model\n",
    "lrModel = lr.fit(trainingDF)"
   ]
  },
  {
   "cell_type": "code",
   "execution_count": 20,
   "metadata": {
    "scrolled": false
   },
   "outputs": [
    {
     "name": "stdout",
     "output_type": "stream",
     "text": [
      "Coefficients: \n",
      "DenseMatrix([[ 0.        , -0.39488638,  0.26512287,  0.75657199]])\n",
      "\n",
      "Intercept: [0.050994195348395]\n"
     ]
    }
   ],
   "source": [
    "# Print the coefficients and intercept for multinomial logistic regression\n",
    "print(\"Coefficients: \\n\" + str(lrModel.coefficientMatrix))\n",
    "print(\"Intercept: \" + str(lrModel.interceptVector))"
   ]
  },
  {
   "cell_type": "code",
   "execution_count": 22,
   "metadata": {},
   "outputs": [
    {
     "data": {
      "image/png": "[encoded data removed]",
      "text/plain": [
       "<Figure size 432x288 with 1 Axes>"
      ]
     },
     "metadata": {},
     "output_type": "display_data"
    }
   ],
   "source": [
    "trainingSummary = lrModel.summary\n",
    "roc = trainingSummary.roc.toPandas()\n",
    "plt.plot(roc['FPR'],roc['TPR'])\n",
    "plt.ylabel('False Positive Rate')\n",
    "plt.xlabel('True Positive Rate')\n",
    "plt.title('ROC Curve')\n",
    "plt.show()"
   ]
  },
  {
   "cell_type": "markdown",
   "metadata": {},
   "source": [
    "### 2.Predict"
   ]
  },
  {
   "cell_type": "code",
   "execution_count": 23,
   "metadata": {},
   "outputs": [],
   "source": [
    "predictions = lrModel.transform(testDF)"
   ]
  },
  {
   "cell_type": "code",
   "execution_count": 24,
   "metadata": {},
   "outputs": [
    {
     "name": "stdout",
     "output_type": "stream",
     "text": [
      "+-----+-----------------+--------------------+--------------------+----------+\n",
      "|label|         features|       rawPrediction|         probability|prediction|\n",
      "+-----+-----------------+--------------------+--------------------+----------+\n",
      "|    0|[4.6,3.2,1.4,0.2]|[0.69015580953523...|[0.66600158646240...|       0.0|\n",
      "|    0|[4.6,3.4,1.4,0.3]|[0.69347588664236...|[0.66673970846055...|       0.0|\n",
      "|    0|[4.7,3.2,1.6,0.2]|[0.63713123648740...|[0.65410468511469...|       0.0|\n",
      "|    0|[4.8,3.0,1.4,0.1]|[0.68683573242810...|[0.66526265040207...|       0.0|\n",
      "|    0|[4.9,3.1,1.5,0.2]|[0.62415488508259...|[0.65116292153813...|       0.0|\n",
      "|    0|[4.9,3.6,1.4,0.1]|[0.92376756000043...|[0.71580914966593...|       0.0|\n",
      "|    0|[5.0,3.0,1.6,0.2]|[0.55815396062996...|[0.63602529489165...|       0.0|\n",
      "|    0|[5.0,3.4,1.6,0.4]|[0.56479411484421...|[0.63756107865569...|       0.0|\n",
      "|    0|[5.2,3.4,1.4,0.2]|[0.76913308539267...|[0.68333333286913...|       0.0|\n",
      "|    0|[5.2,4.1,1.5,0.1]|[1.09469846312011...|[0.74926543991240...|       0.0|\n",
      "|    0|[5.4,3.9,1.3,0.4]|[0.84177416405956...|[0.69883874383852...|       0.0|\n",
      "|    0|[5.5,3.5,1.3,0.2]|[0.83513400984531...|[0.69743939359151...|       0.0|\n",
      "|    0|[5.5,4.2,1.4,0.2]|[1.08504218882244...|[0.74744698428692...|       0.0|\n",
      "|    0|[5.7,3.8,1.7,0.3]|[0.77189357878549...|[0.68393037043351...|       0.0|\n",
      "|    0|[5.8,4.0,1.2,0.2]|[1.05908948601282...|[0.74251650645089...|       0.0|\n",
      "|    1|[5.5,2.4,3.7,1.0]|[-0.8407934739470...|[0.30136769553455...|       1.0|\n",
      "|    1|[5.5,2.4,3.8,1.1]|[-0.9429629592213...|[0.28030222735197...|       1.0|\n",
      "|    1|[5.9,3.2,4.8,1.8]|[-1.4217771122828...|[0.19438313961364...|       1.0|\n",
      "|    1|[6.1,3.0,4.6,1.4]|[-1.1451010200912...|[0.24138503901021...|       1.0|\n",
      "|    1|[6.5,2.8,4.6,1.5]|[-1.2997354946990...|[0.21420953613207...|       1.0|\n",
      "+-----+-----------------+--------------------+--------------------+----------+\n",
      "only showing top 20 rows\n",
      "\n"
     ]
    }
   ],
   "source": [
    "predictions.show()"
   ]
  },
  {
   "cell_type": "markdown",
   "metadata": {},
   "source": [
    "### 3.Model Evaluation "
   ]
  },
  {
   "cell_type": "code",
   "execution_count": 25,
   "metadata": {},
   "outputs": [
    {
     "data": {
      "text/plain": [
       "'areaUnderROC'"
      ]
     },
     "execution_count": 25,
     "metadata": {},
     "output_type": "execute_result"
    }
   ],
   "source": [
    "from pyspark.ml.evaluation import BinaryClassificationEvaluator\n",
    "\n",
    "# Evaluate model\n",
    "evaluator = BinaryClassificationEvaluator(rawPredictionCol=\"rawPrediction\")\n",
    "# Evalues with \"areaUnderROC\" as a metric\n",
    "evaluator.getMetricName()"
   ]
  },
  {
   "cell_type": "code",
   "execution_count": 26,
   "metadata": {},
   "outputs": [
    {
     "data": {
      "text/plain": [
       "1.0"
      ]
     },
     "execution_count": 26,
     "metadata": {},
     "output_type": "execute_result"
    }
   ],
   "source": [
    "# Evalues with \"areaUnderROC\" as a metric\n",
    "evaluator.evaluate(predictions)"
   ]
  },
  {
   "cell_type": "markdown",
   "metadata": {},
   "source": [
    "# Decision Trees"
   ]
  },
  {
   "cell_type": "markdown",
   "metadata": {},
   "source": [
    "### 1. Train a model"
   ]
  },
  {
   "cell_type": "code",
   "execution_count": 27,
   "metadata": {},
   "outputs": [],
   "source": [
    "from pyspark.ml.classification import DecisionTreeClassifier\n",
    "\n",
    "# Create initial Decision Tree Model\n",
    "dt = DecisionTreeClassifier(labelCol=\"label\", featuresCol=\"features\", maxDepth=3)\n",
    "\n",
    "# Train model with Training Data\n",
    "dtModel = dt.fit(trainingDF)"
   ]
  },
  {
   "cell_type": "code",
   "execution_count": 28,
   "metadata": {},
   "outputs": [
    {
     "data": {
      "text/plain": [
       "DecisionTreeClassificationModel (uid=DecisionTreeClassifier_464286756702b1815be0) of depth 1 with 3 nodes"
      ]
     },
     "metadata": {},
     "output_type": "display_data"
    }
   ],
   "source": [
    "display(dtModel)"
   ]
  },
  {
   "cell_type": "code",
   "execution_count": 29,
   "metadata": {},
   "outputs": [
    {
     "name": "stdout",
     "output_type": "stream",
     "text": [
      "numNodes =  3\n",
      "depth =  1\n"
     ]
    }
   ],
   "source": [
    "print(\"numNodes = \", dtModel.numNodes)\n",
    "print(\"depth = \", dtModel.depth)"
   ]
  },
  {
   "cell_type": "markdown",
   "metadata": {},
   "source": [
    "### 2.Predict"
   ]
  },
  {
   "cell_type": "code",
   "execution_count": 31,
   "metadata": {},
   "outputs": [],
   "source": [
    "predictions = dtModel.transform(testDF)"
   ]
  },
  {
   "cell_type": "code",
   "execution_count": 32,
   "metadata": {},
   "outputs": [
    {
     "name": "stdout",
     "output_type": "stream",
     "text": [
      "+-----+-----------------+-------------+-----------+----------+\n",
      "|label|         features|rawPrediction|probability|prediction|\n",
      "+-----+-----------------+-------------+-----------+----------+\n",
      "|    0|[4.6,3.2,1.4,0.2]|   [35.0,0.0]|  [1.0,0.0]|       0.0|\n",
      "|    0|[4.6,3.4,1.4,0.3]|   [35.0,0.0]|  [1.0,0.0]|       0.0|\n",
      "|    0|[4.7,3.2,1.6,0.2]|   [35.0,0.0]|  [1.0,0.0]|       0.0|\n",
      "|    0|[4.8,3.0,1.4,0.1]|   [35.0,0.0]|  [1.0,0.0]|       0.0|\n",
      "|    0|[4.9,3.1,1.5,0.2]|   [35.0,0.0]|  [1.0,0.0]|       0.0|\n",
      "|    0|[4.9,3.6,1.4,0.1]|   [35.0,0.0]|  [1.0,0.0]|       0.0|\n",
      "|    0|[5.0,3.0,1.6,0.2]|   [35.0,0.0]|  [1.0,0.0]|       0.0|\n",
      "|    0|[5.0,3.4,1.6,0.4]|   [35.0,0.0]|  [1.0,0.0]|       0.0|\n",
      "|    0|[5.2,3.4,1.4,0.2]|   [35.0,0.0]|  [1.0,0.0]|       0.0|\n",
      "|    0|[5.2,4.1,1.5,0.1]|   [35.0,0.0]|  [1.0,0.0]|       0.0|\n",
      "|    0|[5.4,3.9,1.3,0.4]|   [35.0,0.0]|  [1.0,0.0]|       0.0|\n",
      "|    0|[5.5,3.5,1.3,0.2]|   [35.0,0.0]|  [1.0,0.0]|       0.0|\n",
      "|    0|[5.5,4.2,1.4,0.2]|   [35.0,0.0]|  [1.0,0.0]|       0.0|\n",
      "|    0|[5.7,3.8,1.7,0.3]|   [35.0,0.0]|  [1.0,0.0]|       0.0|\n",
      "|    0|[5.8,4.0,1.2,0.2]|   [35.0,0.0]|  [1.0,0.0]|       0.0|\n",
      "|    1|[5.5,2.4,3.7,1.0]|   [0.0,43.0]|  [0.0,1.0]|       1.0|\n",
      "|    1|[5.5,2.4,3.8,1.1]|   [0.0,43.0]|  [0.0,1.0]|       1.0|\n",
      "|    1|[5.9,3.2,4.8,1.8]|   [0.0,43.0]|  [0.0,1.0]|       1.0|\n",
      "|    1|[6.1,3.0,4.6,1.4]|   [0.0,43.0]|  [0.0,1.0]|       1.0|\n",
      "|    1|[6.5,2.8,4.6,1.5]|   [0.0,43.0]|  [0.0,1.0]|       1.0|\n",
      "+-----+-----------------+-------------+-----------+----------+\n",
      "only showing top 20 rows\n",
      "\n"
     ]
    }
   ],
   "source": [
    "predictions.show()"
   ]
  },
  {
   "cell_type": "markdown",
   "metadata": {},
   "source": [
    "### 3.Model Evalution"
   ]
  },
  {
   "cell_type": "code",
   "execution_count": 33,
   "metadata": {},
   "outputs": [
    {
     "data": {
      "text/plain": [
       "1.0"
      ]
     },
     "execution_count": 33,
     "metadata": {},
     "output_type": "execute_result"
    }
   ],
   "source": [
    "from pyspark.ml.evaluation import BinaryClassificationEvaluator\n",
    "# Evaluate model\n",
    "evaluator = BinaryClassificationEvaluator()\n",
    "evaluator.evaluate(predictions)"
   ]
  },
  {
   "cell_type": "markdown",
   "metadata": {},
   "source": [
    "# Addtional Visualization"
   ]
  },
  {
   "cell_type": "code",
   "execution_count": 36,
   "metadata": {},
   "outputs": [
    {
     "data": {
      "image/png": "[encoded data removed]",
      "text/plain": [
       "<Figure size 1126.38x1080 with 30 Axes>"
      ]
     },
     "metadata": {},
     "output_type": "display_data"
    }
   ],
   "source": [
    "sns.pairplot(pddf, hue=\"Species\", size=3)\n",
    "plt.show()"
   ]
  }
 ],
 "metadata": {
  "kernelspec": {
   "display_name": "conda_python3",
   "language": "python",
   "name": "conda_python3"
  },
  "language_info": {
   "codemirror_mode": {
    "name": "ipython",
    "version": 3
   },
   "file_extension": ".py",
   "mimetype": "text/x-python",
   "name": "python",
   "nbconvert_exporter": "python",
   "pygments_lexer": "ipython3",
   "version": "3.6.5"
  }
 },
 "nbformat": 4,
 "nbformat_minor": 2
}
